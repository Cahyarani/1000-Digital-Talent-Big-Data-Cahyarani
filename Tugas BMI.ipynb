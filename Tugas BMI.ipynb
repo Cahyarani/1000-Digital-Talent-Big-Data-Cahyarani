{
 "cells": [
  {
   "cell_type": "code",
   "execution_count": 1,
   "metadata": {},
   "outputs": [
    {
     "name": "stdout",
     "output_type": "stream",
     "text": [
      "Weight = 45\n",
      "Height = 150\n",
      "Nilai BMI :  20.0\n",
      "Kategori BMI : \n",
      "Normal (Healthy Weight)\n"
     ]
    }
   ],
   "source": [
    "weight = input(\"Weight = \")\n",
    "height = input(\"Height = \")\n",
    "\n",
    "BMI = float(weight) / ((float(height)/100)**2)\n",
    "\n",
    "print (\"Nilai BMI : \", BMI)\n",
    "print (\"Kategori BMI : \")\n",
    "\n",
    "if BMI < 15:\n",
    "    print(\"Very Severely Underweight\")\n",
    "elif BMI >= 15 and BMI < 16:\n",
    "    print(\"Severely Underweight\")\n",
    "elif BMI >= 16 and BMI < 18.5:\n",
    "    print(\"Underweight\")\n",
    "elif BMI >= 18.5 and BMI < 25:\n",
    "    print(\"Normal (Healthy Weight)\")\n",
    "elif BMI >= 25 and BMI < 30:\n",
    "    print(\"Overweight\")\n",
    "elif BMI >= 30 and BMI < 35:\n",
    "    print(\"Moderately Obese\")\n",
    "elif BMI >= 35 and BMI < 40:\n",
    "    print(\"Severely Obese\")\n",
    "else:\n",
    "    print(\"Very Severely Obese\")"
   ]
  },
  {
   "cell_type": "code",
   "execution_count": null,
   "metadata": {},
   "outputs": [],
   "source": []
  }
 ],
 "metadata": {
  "kernelspec": {
   "display_name": "Python 3",
   "language": "python",
   "name": "python3"
  },
  "language_info": {
   "codemirror_mode": {
    "name": "ipython",
    "version": 3
   },
   "file_extension": ".py",
   "mimetype": "text/x-python",
   "name": "python",
   "nbconvert_exporter": "python",
   "pygments_lexer": "ipython3",
   "version": "3.7.0"
  }
 },
 "nbformat": 4,
 "nbformat_minor": 2
}
