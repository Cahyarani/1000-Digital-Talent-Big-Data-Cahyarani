{
 "cells": [
  {
   "cell_type": "markdown",
   "metadata": {},
   "source": [
    "# Sekumpulan Nilai Random antara 0 sampai dengan 100 sebanyak 250 nilai"
   ]
  },
  {
   "cell_type": "code",
   "execution_count": 1,
   "metadata": {},
   "outputs": [
    {
     "name": "stdout",
     "output_type": "stream",
     "text": [
      "[77, 28, 12, 26, 30, 99, 92, 71, 16, 84, 59, 47, 66, 94, 99, 34, 25, 34, 16, 84, 62, 78, 12, 85, 79, 60, 31, 11, 97, 60, 79, 39, 40, 81, 58, 48, 38, 27, 92, 97, 15, 89, 62, 46, 37, 15, 85, 21, 18, 88, 18, 56, 49, 19, 90, 10, 45, 18, 27, 41, 20, 30, 60, 77, 20, 12, 1, 62, 88, 1, 48, 82, 47, 7, 22, 33, 61, 30, 98, 32, 69, 19, 75, 37, 37, 32, 79, 34, 88, 42, 33, 99, 96, 25, 83, 29, 40, 42, 84, 93, 28, 12, 84, 89, 85, 8, 81, 31, 14, 12, 22, 9, 50, 62, 71, 42, 27, 8, 30, 13, 76, 45, 48, 14, 38, 54, 13, 13, 42, 91, 20, 9, 41, 11, 46, 7, 21, 70, 89, 82, 85, 70, 95, 89, 5, 55, 48, 12, 37, 27, 14, 31, 42, 24, 86, 9, 40, 22, 57, 4, 69, 69, 18, 69, 27, 99, 33, 52, 5, 68, 97, 32, 38, 99, 35, 50, 43, 34, 63, 26, 94, 75, 42, 83, 17, 36, 75, 13, 63, 6, 95, 24, 18, 21, 85, 56, 8, 31, 13, 15, 81, 39, 45, 93, 82, 28, 80, 21, 39, 93, 75, 30, 70, 93, 72, 18, 50, 43, 56, 31, 22, 3, 73, 25, 35, 75, 83, 28, 92, 1, 30, 50, 42, 42, 82, 44, 17, 20, 20, 55, 65, 60, 6, 14, 6, 83, 21, 12, 46, 73]\n"
     ]
    }
   ],
   "source": [
    "import random\n",
    "\n",
    "nilaiTugas = []\n",
    "for i in range(250):\n",
    "    nilaiTugas.append(random.randrange(1,100,1))\n",
    "\n",
    "print(nilaiTugas)"
   ]
  },
  {
   "cell_type": "markdown",
   "metadata": {},
   "source": [
    "# 1. Tampilkan Angka Ganjil dari ke 250 nilai tersebut"
   ]
  },
  {
   "cell_type": "code",
   "execution_count": 2,
   "metadata": {
    "scrolled": true
   },
   "outputs": [
    {
     "name": "stdout",
     "output_type": "stream",
     "text": [
      "77\n",
      "99\n",
      "71\n",
      "59\n",
      "47\n",
      "99\n",
      "25\n",
      "85\n",
      "79\n",
      "31\n",
      "11\n",
      "97\n",
      "79\n",
      "39\n",
      "81\n",
      "27\n",
      "97\n",
      "15\n",
      "89\n",
      "37\n",
      "15\n",
      "85\n",
      "21\n",
      "49\n",
      "19\n",
      "45\n",
      "27\n",
      "41\n",
      "77\n",
      "1\n",
      "1\n",
      "47\n",
      "7\n",
      "33\n",
      "61\n",
      "69\n",
      "19\n",
      "75\n",
      "37\n",
      "37\n",
      "79\n",
      "33\n",
      "99\n",
      "25\n",
      "83\n",
      "29\n",
      "93\n",
      "89\n",
      "85\n",
      "81\n",
      "31\n",
      "9\n",
      "71\n",
      "27\n",
      "13\n",
      "45\n",
      "13\n",
      "13\n",
      "91\n",
      "9\n",
      "41\n",
      "11\n",
      "7\n",
      "21\n",
      "89\n",
      "85\n",
      "95\n",
      "89\n",
      "5\n",
      "55\n",
      "37\n",
      "27\n",
      "31\n",
      "9\n",
      "57\n",
      "69\n",
      "69\n",
      "69\n",
      "27\n",
      "99\n",
      "33\n",
      "5\n",
      "97\n",
      "99\n",
      "35\n",
      "43\n",
      "63\n",
      "75\n",
      "83\n",
      "17\n",
      "75\n",
      "13\n",
      "63\n",
      "95\n",
      "21\n",
      "85\n",
      "31\n",
      "13\n",
      "15\n",
      "81\n",
      "39\n",
      "45\n",
      "93\n",
      "21\n",
      "39\n",
      "93\n",
      "75\n",
      "93\n",
      "43\n",
      "31\n",
      "3\n",
      "73\n",
      "25\n",
      "35\n",
      "75\n",
      "83\n",
      "1\n",
      "17\n",
      "55\n",
      "65\n",
      "83\n",
      "21\n",
      "73\n"
     ]
    }
   ],
   "source": [
    "for i in nilaiTugas:\n",
    "    if (i % 2) != 0:\n",
    "        print (i)"
   ]
  },
  {
   "cell_type": "markdown",
   "metadata": {},
   "source": [
    "# 2. Tampilkan berapa banyak yang mendapatkan nilai lebih dari 70"
   ]
  },
  {
   "cell_type": "code",
   "execution_count": 3,
   "metadata": {},
   "outputs": [
    {
     "name": "stdout",
     "output_type": "stream",
     "text": [
      "77\n",
      "99\n",
      "92\n",
      "71\n",
      "84\n",
      "94\n",
      "99\n",
      "84\n",
      "78\n",
      "85\n",
      "79\n",
      "97\n",
      "79\n",
      "81\n",
      "92\n",
      "97\n",
      "89\n",
      "85\n",
      "88\n",
      "90\n",
      "77\n",
      "88\n",
      "82\n",
      "98\n",
      "75\n",
      "79\n",
      "88\n",
      "99\n",
      "96\n",
      "83\n",
      "84\n",
      "93\n",
      "84\n",
      "89\n",
      "85\n",
      "81\n",
      "71\n",
      "76\n",
      "91\n",
      "89\n",
      "82\n",
      "85\n",
      "95\n",
      "89\n",
      "86\n",
      "99\n",
      "97\n",
      "99\n",
      "94\n",
      "75\n",
      "83\n",
      "75\n",
      "95\n",
      "85\n",
      "81\n",
      "93\n",
      "82\n",
      "80\n",
      "93\n",
      "75\n",
      "93\n",
      "72\n",
      "73\n",
      "75\n",
      "83\n",
      "92\n",
      "82\n",
      "83\n",
      "73\n"
     ]
    }
   ],
   "source": [
    "for i in nilaiTugas:\n",
    "    if i > 70:\n",
    "        print (i)"
   ]
  },
  {
   "cell_type": "markdown",
   "metadata": {},
   "source": [
    "# 3. Tampilkan standar deviasi dari sekumpulan nilai tersebut"
   ]
  },
  {
   "cell_type": "code",
   "execution_count": 11,
   "metadata": {},
   "outputs": [
    {
     "name": "stdout",
     "output_type": "stream",
     "text": [
      "Standar Deviasi :  28.70984249347252\n"
     ]
    }
   ],
   "source": [
    "for i in range(len(nilaiTugas)):\n",
    "    nilaiTugas[i]=int(nilaiTugas[i])\n",
    "jumlah=0\n",
    "for i in range(len(nilaiTugas)):\n",
    "    jumlah +=nilaiTugas[i]\n",
    "\n",
    "rata=jumlah/len(nilaiTugas)\n",
    "sigma = 0\n",
    "for i in range(len(nilaiTugas)):\n",
    "    hitung =(nilaiTugas[i]-rata)**2\n",
    "    sigma += hitung\n",
    "\n",
    "pembagianN=sigma/len(nilaiTugas)\n",
    "standarDeviasi=pembagianN ** 0.5\n",
    "print(\"Standar Deviasi : \", standarDeviasi)"
   ]
  },
  {
   "cell_type": "markdown",
   "metadata": {},
   "source": [
    "# 4. Tampilkan nilai maksimum dan minimum"
   ]
  },
  {
   "cell_type": "code",
   "execution_count": 12,
   "metadata": {},
   "outputs": [
    {
     "name": "stdout",
     "output_type": "stream",
     "text": [
      "Nilai Maksimum :  99\n",
      "Nilai Minimum :  1\n"
     ]
    }
   ],
   "source": [
    "# Nilai Maksimum\n",
    "maksimum = max(nilaiTugas)\n",
    "print(\"Nilai Maksimum : \", maksimum)\n",
    "\n",
    "# Nilai Minimum\n",
    "minimum = min(nilaiTugas)\n",
    "print(\"Nilai Minimum : \",minimum)"
   ]
  },
  {
   "cell_type": "markdown",
   "metadata": {},
   "source": [
    "# 5. Tampilkan modus dari sekumpulan nilai tersebut"
   ]
  },
  {
   "cell_type": "code",
   "execution_count": 10,
   "metadata": {},
   "outputs": [
    {
     "name": "stdout",
     "output_type": "stream",
     "text": [
      "Modus :  42\n"
     ]
    }
   ],
   "source": [
    "frekuensi = {}\n",
    "for i in nilaiTugas:\n",
    "    if i in frekuensi:\n",
    "        frekuensi[i] += 1\n",
    "    else:\n",
    "        frekuensi[i] = 1\n",
    "\n",
    "modus = 0\n",
    "modFrekuensi2 = 0\n",
    "\n",
    "for k in frekuensi:\n",
    "    if frekuensi[k] > modFrekuensi2:\n",
    "        modFrekuensi2 = frekuensi[k]\n",
    "        modus = k;\n",
    "print(\"Modus : \", modus)"
   ]
  }
 ],
 "metadata": {
  "kernelspec": {
   "display_name": "Python 3",
   "language": "python",
   "name": "python3"
  },
  "language_info": {
   "codemirror_mode": {
    "name": "ipython",
    "version": 3
   },
   "file_extension": ".py",
   "mimetype": "text/x-python",
   "name": "python",
   "nbconvert_exporter": "python",
   "pygments_lexer": "ipython3",
   "version": "3.7.0"
  }
 },
 "nbformat": 4,
 "nbformat_minor": 2
}
